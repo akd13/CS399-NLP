{
 "cells": [
  {
   "cell_type": "code",
   "execution_count": null,
   "id": "2fee759d",
   "metadata": {
    "pycharm": {
     "is_executing": true
    }
   },
   "outputs": [],
   "source": [
    "import os\n",
    "import pandas as pd"
   ]
  },
  {
   "cell_type": "code",
   "execution_count": 2,
   "id": "9295c730",
   "metadata": {},
   "outputs": [
    {
     "data": {
      "text/plain": [
       "'/Users/akankshitadash/Desktop/Stanford/Quarter2/CS399/DataGathering/datasets'"
      ]
     },
     "execution_count": 2,
     "metadata": {},
     "output_type": "execute_result"
    }
   ],
   "source": [
    "os.getcwd()"
   ]
  },
  {
   "cell_type": "code",
   "execution_count": 3,
   "id": "c2820ac4",
   "metadata": {},
   "outputs": [],
   "source": [
    "not_exist = []"
   ]
  },
  {
   "cell_type": "code",
   "execution_count": 8,
   "id": "fd467c4e",
   "metadata": {},
   "outputs": [],
   "source": [
    "image_json_set = set()"
   ]
  },
  {
   "cell_type": "code",
   "execution_count": 11,
   "id": "7e50a760",
   "metadata": {},
   "outputs": [],
   "source": [
    "df = pd.read_json('images.json')\n",
    "for i,item in df['images'].items():\n",
    "    path = 'images/'+item['filename']\n",
    "    image_json_set.add(item['filename'])\n",
    "    if not os.path.isfile(path):\n",
    "        not_exist.append(path)"
   ]
  },
  {
   "cell_type": "code",
   "execution_count": 12,
   "id": "de5fbd8b",
   "metadata": {},
   "outputs": [
    {
     "data": {
      "text/plain": [
       "[]"
      ]
     },
     "execution_count": 12,
     "metadata": {},
     "output_type": "execute_result"
    }
   ],
   "source": [
    "not_exist"
   ]
  },
  {
   "cell_type": "code",
   "execution_count": null,
   "id": "a4859e9d",
   "metadata": {},
   "outputs": [],
   "source": [
    "len(image_json_set)"
   ]
  },
  {
   "cell_type": "code",
   "execution_count": 9,
   "id": "a9a7b663",
   "metadata": {},
   "outputs": [],
   "source": [
    "all_images = set(os.listdir('images'))"
   ]
  },
  {
   "cell_type": "code",
   "execution_count": 10,
   "id": "57d50b37",
   "metadata": {},
   "outputs": [
    {
     "data": {
      "text/plain": [
       "44667"
      ]
     },
     "execution_count": 10,
     "metadata": {},
     "output_type": "execute_result"
    }
   ],
   "source": [
    "len(all_images)"
   ]
  },
  {
   "cell_type": "code",
   "execution_count": null,
   "id": "aa2a7269",
   "metadata": {},
   "outputs": [],
   "source": []
  }
 ],
 "metadata": {
  "kernelspec": {
   "display_name": "venv",
   "language": "python",
   "name": "venv"
  },
  "language_info": {
   "codemirror_mode": {
    "name": "ipython",
    "version": 3
   },
   "file_extension": ".py",
   "mimetype": "text/x-python",
   "name": "python",
   "nbconvert_exporter": "python",
   "pygments_lexer": "ipython3",
   "version": "3.9.12"
  }
 },
 "nbformat": 4,
 "nbformat_minor": 5
}
