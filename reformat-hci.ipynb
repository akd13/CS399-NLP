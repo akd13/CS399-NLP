{
 "cells": [
  {
   "cell_type": "code",
   "execution_count": 76,
   "id": "c983b37a",
   "metadata": {},
   "outputs": [],
   "source": [
    "import json\n",
    "import pandas as pd\n",
    "from nltk.tokenize import word_tokenize"
   ]
  },
  {
   "cell_type": "code",
   "execution_count": 2,
   "id": "a652128e",
   "metadata": {},
   "outputs": [],
   "source": [
    "json_file = 'hci-charts/hci-charts-manual-filtered.json'\n",
    "reference_file = 'concadia-charts/concadia-charts-manual-filtered.json'"
   ]
  },
  {
   "cell_type": "code",
   "execution_count": 3,
   "id": "ce9eafc0",
   "metadata": {},
   "outputs": [],
   "source": [
    "df = pd.read_json(json_file)"
   ]
  },
  {
   "cell_type": "code",
   "execution_count": 4,
   "id": "1d32dbf4",
   "metadata": {},
   "outputs": [
    {
     "data": {
      "text/html": [
       "<div>\n",
       "<style scoped>\n",
       "    .dataframe tbody tr th:only-of-type {\n",
       "        vertical-align: middle;\n",
       "    }\n",
       "\n",
       "    .dataframe tbody tr th {\n",
       "        vertical-align: top;\n",
       "    }\n",
       "\n",
       "    .dataframe thead th {\n",
       "        text-align: right;\n",
       "    }\n",
       "</style>\n",
       "<table border=\"1\" class=\"dataframe\">\n",
       "  <thead>\n",
       "    <tr style=\"text-align: right;\">\n",
       "      <th></th>\n",
       "      <th>images</th>\n",
       "    </tr>\n",
       "  </thead>\n",
       "  <tbody>\n",
       "    <tr>\n",
       "      <th>0</th>\n",
       "      <td>{'title': 'Blind people and mobile touch-based...</td>\n",
       "    </tr>\n",
       "    <tr>\n",
       "      <th>1</th>\n",
       "      <td>{'title': 'Blind people and mobile touch-based...</td>\n",
       "    </tr>\n",
       "    <tr>\n",
       "      <th>2</th>\n",
       "      <td>{'title': 'Blind people and mobile touch-based...</td>\n",
       "    </tr>\n",
       "    <tr>\n",
       "      <th>3</th>\n",
       "      <td>{'title': 'Blind people and mobile touch-based...</td>\n",
       "    </tr>\n",
       "    <tr>\n",
       "      <th>4</th>\n",
       "      <td>{'title': 'Blind people and mobile touch-based...</td>\n",
       "    </tr>\n",
       "    <tr>\n",
       "      <th>...</th>\n",
       "      <td>...</td>\n",
       "    </tr>\n",
       "    <tr>\n",
       "      <th>370</th>\n",
       "      <td>{'title': 'MagTouch: Robust Finger Identificat...</td>\n",
       "    </tr>\n",
       "    <tr>\n",
       "      <th>371</th>\n",
       "      <td>{'title': 'ToonNote: Improving Communication i...</td>\n",
       "    </tr>\n",
       "    <tr>\n",
       "      <th>372</th>\n",
       "      <td>{'title': 'Effect of target size on non-visual...</td>\n",
       "    </tr>\n",
       "    <tr>\n",
       "      <th>373</th>\n",
       "      <td>{'title': 'Effect of target size on non-visual...</td>\n",
       "    </tr>\n",
       "    <tr>\n",
       "      <th>374</th>\n",
       "      <td>{'title': 'Effect of target size on non-visual...</td>\n",
       "    </tr>\n",
       "  </tbody>\n",
       "</table>\n",
       "<p>375 rows × 1 columns</p>\n",
       "</div>"
      ],
      "text/plain": [
       "                                                images\n",
       "0    {'title': 'Blind people and mobile touch-based...\n",
       "1    {'title': 'Blind people and mobile touch-based...\n",
       "2    {'title': 'Blind people and mobile touch-based...\n",
       "3    {'title': 'Blind people and mobile touch-based...\n",
       "4    {'title': 'Blind people and mobile touch-based...\n",
       "..                                                 ...\n",
       "370  {'title': 'MagTouch: Robust Finger Identificat...\n",
       "371  {'title': 'ToonNote: Improving Communication i...\n",
       "372  {'title': 'Effect of target size on non-visual...\n",
       "373  {'title': 'Effect of target size on non-visual...\n",
       "374  {'title': 'Effect of target size on non-visual...\n",
       "\n",
       "[375 rows x 1 columns]"
      ]
     },
     "execution_count": 4,
     "metadata": {},
     "output_type": "execute_result"
    }
   ],
   "source": [
    "df"
   ]
  },
  {
   "cell_type": "code",
   "execution_count": 5,
   "id": "fe15a25d",
   "metadata": {},
   "outputs": [],
   "source": [
    "df_ref = pd.read_json(reference_file)"
   ]
  },
  {
   "cell_type": "code",
   "execution_count": 6,
   "id": "1a729c8d",
   "metadata": {},
   "outputs": [
    {
     "data": {
      "text/html": [
       "<div>\n",
       "<style scoped>\n",
       "    .dataframe tbody tr th:only-of-type {\n",
       "        vertical-align: middle;\n",
       "    }\n",
       "\n",
       "    .dataframe tbody tr th {\n",
       "        vertical-align: top;\n",
       "    }\n",
       "\n",
       "    .dataframe thead th {\n",
       "        text-align: right;\n",
       "    }\n",
       "</style>\n",
       "<table border=\"1\" class=\"dataframe\">\n",
       "  <thead>\n",
       "    <tr style=\"text-align: right;\">\n",
       "      <th></th>\n",
       "      <th>images</th>\n",
       "    </tr>\n",
       "  </thead>\n",
       "  <tbody>\n",
       "    <tr>\n",
       "      <th>0</th>\n",
       "      <td>{'article_id': 'Autism', 'filename': '4.jpg', ...</td>\n",
       "    </tr>\n",
       "    <tr>\n",
       "      <th>1</th>\n",
       "      <td>{'article_id': 'Bulgaria', 'filename': '597.jp...</td>\n",
       "    </tr>\n",
       "    <tr>\n",
       "      <th>2</th>\n",
       "      <td>{'article_id': 'Brain', 'filename': '644.jpg',...</td>\n",
       "    </tr>\n",
       "    <tr>\n",
       "      <th>3</th>\n",
       "      <td>{'article_id': 'British Rail', 'filename': '79...</td>\n",
       "    </tr>\n",
       "    <tr>\n",
       "      <th>4</th>\n",
       "      <td>{'article_id': 'Dubnium', 'filename': '1262.jp...</td>\n",
       "    </tr>\n",
       "    <tr>\n",
       "      <th>...</th>\n",
       "      <td>...</td>\n",
       "    </tr>\n",
       "    <tr>\n",
       "      <th>166</th>\n",
       "      <td>{'article_id': 'Unemployment in South Korea', ...</td>\n",
       "    </tr>\n",
       "    <tr>\n",
       "      <th>167</th>\n",
       "      <td>{'article_id': 'Matchbox Educable Noughts and ...</td>\n",
       "    </tr>\n",
       "    <tr>\n",
       "      <th>168</th>\n",
       "      <td>{'article_id': 'Colonial police action against...</td>\n",
       "    </tr>\n",
       "    <tr>\n",
       "      <th>169</th>\n",
       "      <td>{'article_id': 'Minecraft (franchise)', 'filen...</td>\n",
       "    </tr>\n",
       "    <tr>\n",
       "      <th>170</th>\n",
       "      <td>{'article_id': 'Draft:Iso-ROI model', 'filenam...</td>\n",
       "    </tr>\n",
       "  </tbody>\n",
       "</table>\n",
       "<p>171 rows × 1 columns</p>\n",
       "</div>"
      ],
      "text/plain": [
       "                                                images\n",
       "0    {'article_id': 'Autism', 'filename': '4.jpg', ...\n",
       "1    {'article_id': 'Bulgaria', 'filename': '597.jp...\n",
       "2    {'article_id': 'Brain', 'filename': '644.jpg',...\n",
       "3    {'article_id': 'British Rail', 'filename': '79...\n",
       "4    {'article_id': 'Dubnium', 'filename': '1262.jp...\n",
       "..                                                 ...\n",
       "166  {'article_id': 'Unemployment in South Korea', ...\n",
       "167  {'article_id': 'Matchbox Educable Noughts and ...\n",
       "168  {'article_id': 'Colonial police action against...\n",
       "169  {'article_id': 'Minecraft (franchise)', 'filen...\n",
       "170  {'article_id': 'Draft:Iso-ROI model', 'filenam...\n",
       "\n",
       "[171 rows x 1 columns]"
      ]
     },
     "execution_count": 6,
     "metadata": {},
     "output_type": "execute_result"
    }
   ],
   "source": [
    "df_ref"
   ]
  },
  {
   "cell_type": "code",
   "execution_count": 7,
   "id": "ef2057cb",
   "metadata": {},
   "outputs": [
    {
     "name": "stdout",
     "output_type": "stream",
     "text": [
      "article_id : Autism\n",
      "filename : 4.jpg\n",
      "orig_filename : https://upload.wikimedia.org/wikipedia/commons/thumb/5/57/US-autism-6-17-1996-2007.png/220px-US-autism-6-17-1996-2007.png\n",
      "description : {'raw': 'Bar chart versus time. The graph rises steadily from 1996 to 2007, from about 0.7 to about 5.3. The trend curves slightly upward.', 'tokens': ['Bar', 'chart', 'versus', 'time', '.', 'The', 'graph', 'rises', 'steadily', 'from', '1996', 'to', '2007', ',', 'from', 'about', '0.7', 'to', 'about', '5.3', '.', 'The', 'trend', 'curves', 'slightly', 'upward', '.']}\n",
      "caption : {'raw': 'Reports of autism cases per 1,000 children grew dramatically in the US from 1996 to 2007. It is unknown how much, if any, growth came from changes in rates of autism.', 'tokens': ['Reports', 'of', 'autism', 'cases', 'per', '1,000', 'children', 'grew', 'dramatically', 'in', 'the', 'US', 'from', '1996', 'to', '2007', '.', 'It', 'is', 'unknown', 'how', 'much', ',', 'if', 'any', ',', 'growth', 'came', 'from', 'changes', 'in', 'rates', 'of', 'autism', '.']}\n",
      "context : {'raw': \" Most recent reviews tend to estimate a prevalence of 12 per 1,000 for autism and close to 6 per 1,000 for ASD as of 2007. A 2016 survey in the United States reported a rate of 25 per 1,000 children for ASD. Globally, autism affects an estimated 24.8 million people as of 2015[update], while Asperger syndrome affects a further 37.2 million. In 2012, the NHS estimated that the overall prevalence of autism among adults aged 18 years and over in the UK was 1.1%. Rates of PDD-NOS's has been estimated at 3.7 per 1,000, Asperger syndrome at roughly 0.6 per 1,000, and childhood disintegrative disorder at 0.02 per 1,000. CDC estimates about 1 out of 59 (1.7%) for 2014, an increase from 1 out of every 68 children (1.5%) for 2010.\", 'tokens': ['Most', 'recent', 'reviews', 'tend', 'to', 'estimate', 'a', 'prevalence', 'of', '12', 'per', '1,000', 'for', 'autism', 'and', 'close', 'to', '6', 'per', '1,000', 'for', 'ASD', 'as', 'of', '2007', '.', 'A', '2016', 'survey', 'in', 'the', 'United', 'States', 'reported', 'a', 'rate', 'of', '25', 'per', '1,000', 'children', 'for', 'ASD', '.', 'Globally', ',', 'autism', 'affects', 'an', 'estimated', '24.8', 'million', 'people', 'as', 'of', '2015', '[', 'update', ']', ',', 'while', 'Asperger', 'syndrome', 'affects', 'a', 'further', '37.2', 'million', '.', 'In', '2012', ',', 'the', 'NHS', 'estimated', 'that', 'the', 'overall', 'prevalence', 'of', 'autism', 'among', 'adults', 'aged', '18', 'years', 'and', 'over', 'in', 'the', 'UK', 'was', '1.1', '%', '.', 'Rates', 'of', 'PDD-NOS', \"'s\", 'has', 'been', 'estimated', 'at', '3.7', 'per', '1,000', ',', 'Asperger', 'syndrome', 'at', 'roughly', '0.6', 'per', '1,000', ',', 'and', 'childhood', 'disintegrative', 'disorder', 'at', '0.02', 'per', '1,000', '.', 'CDC', 'estimates', 'about', '1', 'out', 'of', '59', '(', '1.7', '%', ')', 'for', '2014', ',', 'an', 'increase', 'from', '1', 'out', 'of', 'every', '68', 'children', '(', '1.5', '%', ')', 'for', '2010', '.']}\n",
      "split : train\n"
     ]
    }
   ],
   "source": [
    "for key, value in df_ref['images'].iloc[0].items():\n",
    "    print(key, \":\",value)"
   ]
  },
  {
   "cell_type": "code",
   "execution_count": 8,
   "id": "67010b1c",
   "metadata": {},
   "outputs": [
    {
     "name": "stdout",
     "output_type": "stream",
     "text": [
      "title : Blind people and mobile touch-based text-entry: acknowledging the need for different flavors\n",
      "pdf_hash : 3b7898e31176cfe6b7e2b6309e2f18c63103baa9\n",
      "year : 2011\n",
      "venue : ASSETS\n",
      "alt_text : This figure presents a collum chart with the average WPM for each method. QWERTY ist the fastest followed by MultiTap, NavTouch and BrailleTouch.\n",
      "levels : [[1], [2]]\n",
      "corpus_id : 3187042\n",
      "sentences : ['This figure presents a collum chart with the average WPM for each method.', 'QWERTY ist the fastest followed by MultiTap, NavTouch and BrailleTouch.']\n",
      "caption : Figure 4. WPM (average) across the different methods. Error bars denote 95% CI.\n",
      "local_uri : ['3b7898e31176cfe6b7e2b6309e2f18c63103baa9_Image_005.jpg']\n",
      "annotated : True\n",
      "is_plot : True\n",
      "uniq_levels : [1, 2]\n",
      "has_1_2_3 : False\n",
      "has_1_2 : True\n",
      "compound : False\n"
     ]
    }
   ],
   "source": [
    "for key, value in df['images'].iloc[0].items():\n",
    "    print(key, \":\",value)"
   ]
  },
  {
   "cell_type": "code",
   "execution_count": 59,
   "id": "ea7c08cf",
   "metadata": {},
   "outputs": [],
   "source": [
    "mapping = {'title': 'article_id', \n",
    "           'alt_text':['description'], \n",
    "           'caption': ['caption'], \n",
    "           'local_uri':'filename',\n",
    "           'pdf_hash': 'orig_filename'}"
   ]
  },
  {
   "cell_type": "code",
   "execution_count": 69,
   "id": "8b29a9e9",
   "metadata": {},
   "outputs": [],
   "source": [
    "new_json = []\n",
    "for row in df['images'].items():\n",
    "    entry = row[1]\n",
    "    reformat_entry = {}\n",
    "    for key, value in mapping.items():\n",
    "        if type(value) is not list:\n",
    "            reformat_entry[value] = entry[key] #TODO: split images later\n",
    "        else:\n",
    "            outer_value = entry[key]\n",
    "            reformat_entry[value[0]] = {'raw': outer_value, 'tokens': word_tokenize(outer_value)}\n",
    "            if value[0]=='caption':\n",
    "                context = entry['title'] + \" \"+ outer_value \n",
    "                reformat_entry['context'] = {'raw': context, 'tokens': word_tokenize(context)}\n",
    "    new_json.append(reformat_entry)"
   ]
  },
  {
   "cell_type": "code",
   "execution_count": 70,
   "id": "f7d18278",
   "metadata": {},
   "outputs": [
    {
     "data": {
      "text/plain": [
       "{'article_id': 'Blind people and mobile touch-based text-entry: acknowledging the need for different flavors',\n",
       " 'description': {'raw': 'This figure presents a collum chart with the average WPM for each method. QWERTY ist the fastest followed by MultiTap, NavTouch and BrailleTouch.',\n",
       "  'tokens': ['This',\n",
       "   'figure',\n",
       "   'presents',\n",
       "   'a',\n",
       "   'collum',\n",
       "   'chart',\n",
       "   'with',\n",
       "   'the',\n",
       "   'average',\n",
       "   'WPM',\n",
       "   'for',\n",
       "   'each',\n",
       "   'method',\n",
       "   '.',\n",
       "   'QWERTY',\n",
       "   'ist',\n",
       "   'the',\n",
       "   'fastest',\n",
       "   'followed',\n",
       "   'by',\n",
       "   'MultiTap',\n",
       "   ',',\n",
       "   'NavTouch',\n",
       "   'and',\n",
       "   'BrailleTouch',\n",
       "   '.']},\n",
       " 'caption': {'raw': 'Figure 4. WPM (average) across the different methods. Error bars denote 95% CI.',\n",
       "  'tokens': ['Figure',\n",
       "   '4',\n",
       "   '.',\n",
       "   'WPM',\n",
       "   '(',\n",
       "   'average',\n",
       "   ')',\n",
       "   'across',\n",
       "   'the',\n",
       "   'different',\n",
       "   'methods',\n",
       "   '.',\n",
       "   'Error',\n",
       "   'bars',\n",
       "   'denote',\n",
       "   '95',\n",
       "   '%',\n",
       "   'CI',\n",
       "   '.']},\n",
       " 'context': {'raw': 'Blind people and mobile touch-based text-entry: acknowledging the need for different flavors Figure 4. WPM (average) across the different methods. Error bars denote 95% CI.',\n",
       "  'tokens': ['Blind',\n",
       "   'people',\n",
       "   'and',\n",
       "   'mobile',\n",
       "   'touch-based',\n",
       "   'text-entry',\n",
       "   ':',\n",
       "   'acknowledging',\n",
       "   'the',\n",
       "   'need',\n",
       "   'for',\n",
       "   'different',\n",
       "   'flavors',\n",
       "   'Figure',\n",
       "   '4',\n",
       "   '.',\n",
       "   'WPM',\n",
       "   '(',\n",
       "   'average',\n",
       "   ')',\n",
       "   'across',\n",
       "   'the',\n",
       "   'different',\n",
       "   'methods',\n",
       "   '.',\n",
       "   'Error',\n",
       "   'bars',\n",
       "   'denote',\n",
       "   '95',\n",
       "   '%',\n",
       "   'CI',\n",
       "   '.']},\n",
       " 'filename': ['3b7898e31176cfe6b7e2b6309e2f18c63103baa9_Image_005.jpg'],\n",
       " 'orig_filename': '3b7898e31176cfe6b7e2b6309e2f18c63103baa9'}"
      ]
     },
     "execution_count": 70,
     "metadata": {},
     "output_type": "execute_result"
    }
   ],
   "source": [
    "new_json[0]"
   ]
  },
  {
   "cell_type": "code",
   "execution_count": 71,
   "id": "280311b7",
   "metadata": {},
   "outputs": [],
   "source": [
    "split_json = []\n",
    "for entry in new_json:\n",
    "    for file in entry['filename']:\n",
    "        modified_entry = entry.copy()\n",
    "        modified_entry['filename'] = file\n",
    "        split_json.append(modified_entry)"
   ]
  },
  {
   "cell_type": "code",
   "execution_count": 73,
   "id": "15706a49",
   "metadata": {},
   "outputs": [
    {
     "data": {
      "text/plain": [
       "398"
      ]
     },
     "execution_count": 73,
     "metadata": {},
     "output_type": "execute_result"
    }
   ],
   "source": [
    "len(split_json)"
   ]
  },
  {
   "cell_type": "code",
   "execution_count": 74,
   "id": "b4cfe3e8",
   "metadata": {},
   "outputs": [
    {
     "data": {
      "text/plain": [
       "{'article_id': 'Blind people and mobile touch-based text-entry: acknowledging the need for different flavors',\n",
       " 'description': {'raw': 'This figure presents a collum chart with the average WPM for each method. QWERTY ist the fastest followed by MultiTap, NavTouch and BrailleTouch.',\n",
       "  'tokens': ['This',\n",
       "   'figure',\n",
       "   'presents',\n",
       "   'a',\n",
       "   'collum',\n",
       "   'chart',\n",
       "   'with',\n",
       "   'the',\n",
       "   'average',\n",
       "   'WPM',\n",
       "   'for',\n",
       "   'each',\n",
       "   'method',\n",
       "   '.',\n",
       "   'QWERTY',\n",
       "   'ist',\n",
       "   'the',\n",
       "   'fastest',\n",
       "   'followed',\n",
       "   'by',\n",
       "   'MultiTap',\n",
       "   ',',\n",
       "   'NavTouch',\n",
       "   'and',\n",
       "   'BrailleTouch',\n",
       "   '.']},\n",
       " 'caption': {'raw': 'Figure 4. WPM (average) across the different methods. Error bars denote 95% CI.',\n",
       "  'tokens': ['Figure',\n",
       "   '4',\n",
       "   '.',\n",
       "   'WPM',\n",
       "   '(',\n",
       "   'average',\n",
       "   ')',\n",
       "   'across',\n",
       "   'the',\n",
       "   'different',\n",
       "   'methods',\n",
       "   '.',\n",
       "   'Error',\n",
       "   'bars',\n",
       "   'denote',\n",
       "   '95',\n",
       "   '%',\n",
       "   'CI',\n",
       "   '.']},\n",
       " 'context': {'raw': 'Blind people and mobile touch-based text-entry: acknowledging the need for different flavors Figure 4. WPM (average) across the different methods. Error bars denote 95% CI.',\n",
       "  'tokens': ['Blind',\n",
       "   'people',\n",
       "   'and',\n",
       "   'mobile',\n",
       "   'touch-based',\n",
       "   'text-entry',\n",
       "   ':',\n",
       "   'acknowledging',\n",
       "   'the',\n",
       "   'need',\n",
       "   'for',\n",
       "   'different',\n",
       "   'flavors',\n",
       "   'Figure',\n",
       "   '4',\n",
       "   '.',\n",
       "   'WPM',\n",
       "   '(',\n",
       "   'average',\n",
       "   ')',\n",
       "   'across',\n",
       "   'the',\n",
       "   'different',\n",
       "   'methods',\n",
       "   '.',\n",
       "   'Error',\n",
       "   'bars',\n",
       "   'denote',\n",
       "   '95',\n",
       "   '%',\n",
       "   'CI',\n",
       "   '.']},\n",
       " 'filename': '3b7898e31176cfe6b7e2b6309e2f18c63103baa9_Image_005.jpg',\n",
       " 'orig_filename': '3b7898e31176cfe6b7e2b6309e2f18c63103baa9'}"
      ]
     },
     "execution_count": 74,
     "metadata": {},
     "output_type": "execute_result"
    }
   ],
   "source": [
    "split_json[0]"
   ]
  },
  {
   "cell_type": "code",
   "execution_count": 77,
   "id": "c044eb3b",
   "metadata": {},
   "outputs": [],
   "source": [
    "with open(\"hci-charts/context-hci.json\", \"w\") as outfile:\n",
    "    json_object = {'images': split_json}\n",
    "    outfile.write(json.dumps(json_object))"
   ]
  },
  {
   "cell_type": "code",
   "execution_count": null,
   "id": "129d74f4",
   "metadata": {},
   "outputs": [],
   "source": []
  }
 ],
 "metadata": {
  "kernelspec": {
   "display_name": "Python 3 (ipykernel)",
   "language": "python",
   "name": "python3"
  },
  "language_info": {
   "codemirror_mode": {
    "name": "ipython",
    "version": 3
   },
   "file_extension": ".py",
   "mimetype": "text/x-python",
   "name": "python",
   "nbconvert_exporter": "python",
   "pygments_lexer": "ipython3",
   "version": "3.9.12"
  }
 },
 "nbformat": 4,
 "nbformat_minor": 5
}
