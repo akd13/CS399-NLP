{
 "cells": [
  {
   "cell_type": "code",
   "execution_count": 1,
   "id": "84908dd0",
   "metadata": {},
   "outputs": [
    {
     "name": "stdout",
     "output_type": "stream",
     "text": [
      "Collecting git+https://github.com/Maluuba/nlg-eval.git@master\n",
      "  Cloning https://github.com/Maluuba/nlg-eval.git (to revision master) to /private/var/folders/xw/b9pjrnqs1qb383_fxg5k6lpm0000gn/T/pip-req-build-k7h18xca\n",
      "  Running command git clone -q https://github.com/Maluuba/nlg-eval.git /private/var/folders/xw/b9pjrnqs1qb383_fxg5k6lpm0000gn/T/pip-req-build-k7h18xca\n",
      "  Resolved https://github.com/Maluuba/nlg-eval.git to commit 7f7993035a2f4729a15d20040fd904933ea58767\n",
      "Requirement already satisfied: nltk>=3.4.5 in /Users/akankshitadash/opt/anaconda3/lib/python3.9/site-packages (from nlg-eval==2.3) (3.7)\n",
      "Requirement already satisfied: numpy>=1.11.0 in /Users/akankshitadash/opt/anaconda3/lib/python3.9/site-packages (from nlg-eval==2.3) (1.23.5)\n",
      "Requirement already satisfied: psutil>=5.6.2 in /Users/akankshitadash/opt/anaconda3/lib/python3.9/site-packages (from nlg-eval==2.3) (5.8.0)\n",
      "Requirement already satisfied: requests>=2.19 in /Users/akankshitadash/opt/anaconda3/lib/python3.9/site-packages (from nlg-eval==2.3) (2.27.1)\n",
      "Requirement already satisfied: six>=1.11 in /Users/akankshitadash/opt/anaconda3/lib/python3.9/site-packages (from nlg-eval==2.3) (1.16.0)\n",
      "Requirement already satisfied: Cython>=0.28.5 in /Users/akankshitadash/opt/anaconda3/lib/python3.9/site-packages (from nlg-eval==2.3) (0.29.28)\n",
      "Requirement already satisfied: scipy>=0.17.0 in /Users/akankshitadash/opt/anaconda3/lib/python3.9/site-packages (from nlg-eval==2.3) (1.9.3)\n",
      "Requirement already satisfied: scikit-learn>=0.17 in /Users/akankshitadash/opt/anaconda3/lib/python3.9/site-packages (from nlg-eval==2.3) (1.0.2)\n",
      "Collecting gensim~=3.8.3\n",
      "  Downloading gensim-3.8.3.tar.gz (23.4 MB)\n",
      "\u001b[K     |████████████████████████████████| 23.4 MB 19.5 MB/s eta 0:00:01\n",
      "^C\n",
      "\u001b[31mERROR: Operation cancelled by user\u001b[0m\n",
      "\u001b[?25h"
     ]
    }
   ],
   "source": []
  },
  {
   "cell_type": "code",
   "execution_count": null,
   "id": "134ed091",
   "metadata": {},
   "outputs": [],
   "source": []
  }
 ],
 "metadata": {
  "kernelspec": {
   "display_name": "Python 3 (ipykernel)",
   "language": "python",
   "name": "python3"
  },
  "language_info": {
   "codemirror_mode": {
    "name": "ipython",
    "version": 3
   },
   "file_extension": ".py",
   "mimetype": "text/x-python",
   "name": "python",
   "nbconvert_exporter": "python",
   "pygments_lexer": "ipython3",
   "version": "3.9.12"
  }
 },
 "nbformat": 4,
 "nbformat_minor": 5
}
